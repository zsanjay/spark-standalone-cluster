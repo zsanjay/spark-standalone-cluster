{
 "cells": [
  {
   "cell_type": "code",
   "execution_count": null,
   "id": "938ecac6-dd1b-4a46-b843-a7696992b45e",
   "metadata": {},
   "outputs": [],
   "source": [
    "from pyspark.sql import SparkSession\n",
    "\n",
    "spark = SparkSession.builder.appName('Test DataFrame').master('local').getOrCreate()"
   ]
  },
  {
   "cell_type": "code",
   "execution_count": null,
   "id": "cce8df36-1b9c-4132-9df4-d47f32a7ed94",
   "metadata": {},
   "outputs": [],
   "source": [
    "data = [(1, 'a', 111),(2, 'b', 222)]\n",
    "columns = ['id', 'name', 'rno']\n",
    "cdf = spark.createDataFrame(data=data1, schema=columns)\n",
    "cdf.show()"
   ]
  },
  {
   "cell_type": "code",
   "execution_count": null,
   "id": "7f480047-f1e2-4651-bc3f-03c7085d0f3e",
   "metadata": {},
   "outputs": [],
   "source": [
    "spark"
   ]
  },
  {
   "cell_type": "code",
   "execution_count": null,
   "id": "12c75beb-35d7-4146-ad9b-f433c0e2e998",
   "metadata": {},
   "outputs": [],
   "source": []
  },
  {
   "cell_type": "code",
   "execution_count": null,
   "id": "7ad9528a-e14d-4059-ae15-d4d2002263d2",
   "metadata": {},
   "outputs": [],
   "source": []
  }
 ],
 "metadata": {
  "kernelspec": {
   "display_name": "Python 3 (ipykernel)",
   "language": "python",
   "name": "python3"
  },
  "language_info": {
   "codemirror_mode": {
    "name": "ipython",
    "version": 3
   },
   "file_extension": ".py",
   "mimetype": "text/x-python",
   "name": "python",
   "nbconvert_exporter": "python",
   "pygments_lexer": "ipython3",
   "version": "3.11.12"
  }
 },
 "nbformat": 4,
 "nbformat_minor": 5
}
